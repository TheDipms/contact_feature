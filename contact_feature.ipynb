{
 "cells": [
  {
   "cell_type": "code",
   "execution_count": null,
   "metadata": {},
   "outputs": [],
   "source": [
    "from datetime import datetime\n",
    "import pandas as pd"
   ]
  },
  {
   "cell_type": "code",
   "execution_count": null,
   "metadata": {},
   "outputs": [],
   "source": [
    "\n",
    "class Contact(object):\n",
    "\n",
    "        def __init__(self, firstname, lastname,phone_number):\n",
    "            self.firstname = firstname\n",
    "            self.lastname = lastname\n",
    "            self.phone_number = phone_number\n",
    "            self.date = datetime.today() \n",
    "            self.update_phone_number = None \n",
    "            \n",
    "            \n",
    "            contact = {\n",
    "                \"first_name\": self.firstname,\n",
    "                \"last_name\": self.lastname,\n",
    "                \"phone\": self.phone_number,\n",
    "                \"creation_time\": self.date,\n",
    "                \"updated_phone\": self.update_phone_number\n",
    "                }\n",
    "            print(pd.DataFrame)(contact)\n",
    "            data= pd.DataFrame(contact)\n",
    "            data.to_csv(\"C:/Users/alexa/Pandas/contact_feature/contact_feature.csv,index=False\")\n",
    "            \n",
    "\n",
    "    "
   ]
  },
  {
   "cell_type": "code",
   "execution_count": null,
   "metadata": {},
   "outputs": [],
   "source": [
    "def create_contact() :\n",
    "    firstname = input('Enter first name')\n",
    "    lastname = input('Enter last name')\n",
    "    phone_number = input('Phone number')\n",
    "    date = datetime.today().date()\n"
   ]
  },
  {
   "cell_type": "code",
   "execution_count": null,
   "metadata": {},
   "outputs": [],
   "source": [
    "def update_contact(self, new_contact):\n",
    "         new_contact=pd.read_csv(\"contact.csv\")\n",
    "         self.update_contact = datetime.today().date()\n",
    "         self.phone_number = new_contact"
   ]
  },
  {
   "cell_type": "code",
   "execution_count": null,
   "metadata": {},
   "outputs": [],
   "source": [
    "def delete_contact(self, no_contact):\n",
    "    no_contact=pd.read_csv(\"contact.csv\")\n",
    "    self.delete_contact = None"
   ]
  }
 ],
 "metadata": {
  "kernelspec": {
   "display_name": "Python 3",
   "language": "python",
   "name": "python3"
  },
  "language_info": {
   "name": "python",
   "version": "3.10.9 (tags/v3.10.9:1dd9be6, Dec  6 2022, 20:01:21) [MSC v.1934 64 bit (AMD64)]"
  },
  "orig_nbformat": 4,
  "vscode": {
   "interpreter": {
    "hash": "97cba5719d159acad27bb7f37d182d27b1d38df28115fbd0d331121e7aca3605"
   }
  }
 },
 "nbformat": 4,
 "nbformat_minor": 2
}
